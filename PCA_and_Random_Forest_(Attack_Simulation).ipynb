{
 "cells": [
  {
   "cell_type": "markdown",
   "metadata": {},
   "source": [
    "# Import Library"
   ]
  },
  {
   "cell_type": "code",
   "execution_count": 1,
   "metadata": {
    "id": "WHxyEQ5B_m5B"
   },
   "outputs": [],
   "source": [
    "import matplotlib.pyplot as plt\n",
    "import seaborn as sns\n",
    "from datetime import datetime, timedelta\n",
    "import pandas as pd\n",
    "import os\n",
    "from sklearn.ensemble import RandomForestClassifier\n",
    "from sklearn.model_selection import train_test_split,KFold\n",
    "from sklearn.preprocessing import StandardScaler\n",
    "from sklearn.metrics import classification_report, roc_curve, auc, confusion_matrix\n",
    "from sklearn.decomposition import PCA"
   ]
  },
  {
   "cell_type": "code",
   "execution_count": 2,
   "metadata": {
    "colab": {
     "base_uri": "https://localhost:8080/",
     "height": 487
    },
    "id": "9huNP79q9sJ5",
    "outputId": "63078cc9-4198-4b84-a823-7a0dda51470c"
   },
   "outputs": [],
   "source": [
    "# read train data and test data from directory\n",
    "# dir_dataset = \"E:\\ilmu\\Kuliah\\sem 7 dan 8\\Tugas Akhir\\dataset\\\\Network Attack Simulation\\Dataset of DoS Attack Simulation\"\n",
    "dir_dataset = 'TRAIN DATA AND TEST DATA DIRECTORY'\n",
    "\n",
    "df_train = pd.read_csv(dir_dataset + '\\\\train.csv')\n",
    "df_test = pd.read_csv(dir_dataset + '\\\\test.csv')"
   ]
  },
  {
   "cell_type": "code",
   "execution_count": 3,
   "metadata": {},
   "outputs": [],
   "source": [
    "#  load dataset into train data, train labels, test data and test labels\n",
    "def load_train_test(df_train, df_test):\n",
    "    train_x, train_y = df_train.iloc[:, :-1], df_train.iloc[:, -1]\n",
    "    test_x, test_y = df_test.iloc[:, :-1], df_test.iloc[:, -1]\n",
    "    return train_x, train_y, test_x, test_y"
   ]
  },
  {
   "cell_type": "code",
   "execution_count": 4,
   "metadata": {},
   "outputs": [],
   "source": [
    "# call function load_train_test()\n",
    "train_x, train_y, test_x, test_y = load_train_test(df_train, df_test)"
   ]
  },
  {
   "cell_type": "code",
   "execution_count": 5,
   "metadata": {},
   "outputs": [],
   "source": [
    "# scaling train data and test data\n",
    "scaler = StandardScaler()\n",
    "scaler.fit(train_x)\n",
    "train_x = scaler.transform(train_x)\n",
    "test_x = scaler.transform(test_x)"
   ]
  },
  {
   "cell_type": "code",
   "execution_count": 6,
   "metadata": {
    "id": "aofE0mcVbCAv"
   },
   "outputs": [],
   "source": [
    "# construct random forest classifier\n",
    "rfc = RandomForestClassifier(n_jobs=-1, n_estimators=10)"
   ]
  },
  {
   "cell_type": "code",
   "execution_count": 7,
   "metadata": {},
   "outputs": [
    {
     "name": "stdout",
     "output_type": "stream",
     "text": [
      "\n",
      "               precision    recall  f1-score   support\n",
      "\n",
      "           0       1.00      1.00      1.00      4624\n",
      "           1       1.00      1.00      1.00      6784\n",
      "\n",
      "    accuracy                           1.00     11408\n",
      "   macro avg       1.00      1.00      1.00     11408\n",
      "weighted avg       1.00      1.00      1.00     11408\n",
      "\n"
     ]
    }
   ],
   "source": [
    "# construct PCA and transform data\n",
    "pca = PCA(0.95)\n",
    "X_train_pca = pca.fit_transform(train_x)\n",
    "X_test_pca = pca.transform(test_x)\n",
    "\n",
    "\n",
    "# train model with a new data\n",
    "rfc.fit(X_train_pca, train_y)\n",
    "\n",
    "# evaluate\n",
    "acc = rfc.score(X_test_pca, test_y)\n",
    "testResult = rfc.predict(X_test_pca)\n",
    "print('\\n', classification_report(test_y, testResult))\n"
   ]
  },
  {
   "cell_type": "markdown",
   "metadata": {
    "id": "ywDHbtgmIZv_"
   },
   "source": [
    "# Evaluation Metric\n",
    "Evaluation metrics are used to assess the performance of a model. The metrics used include precision, recall, F1 score, accuracy, and ROC curve."
   ]
  },
  {
   "cell_type": "code",
   "execution_count": 8,
   "metadata": {
    "id": "T0khip8qBgN5"
   },
   "outputs": [],
   "source": [
    "testResult = rfc.predict(X_test_pca)"
   ]
  },
  {
   "cell_type": "code",
   "execution_count": 9,
   "metadata": {
    "id": "jBtAt_cEBSmQ"
   },
   "outputs": [
    {
     "name": "stdout",
     "output_type": "stream",
     "text": [
      "              precision    recall  f1-score   support\n",
      "\n",
      "           0       1.00      1.00      1.00      4624\n",
      "           1       1.00      1.00      1.00      6784\n",
      "\n",
      "    accuracy                           1.00     11408\n",
      "   macro avg       1.00      1.00      1.00     11408\n",
      "weighted avg       1.00      1.00      1.00     11408\n",
      "\n"
     ]
    }
   ],
   "source": [
    "print(classification_report(test_y, testResult))"
   ]
  },
  {
   "cell_type": "code",
   "execution_count": 10,
   "metadata": {
    "id": "yDn4N4DuCEfI"
   },
   "outputs": [],
   "source": [
    "from sklearn.metrics import confusion_matrix\n",
    "conf_matrix = confusion_matrix(y_true=test_y, y_pred=testResult)"
   ]
  },
  {
   "cell_type": "code",
   "execution_count": 11,
   "metadata": {
    "id": "wxbE6eb3COAP"
   },
   "outputs": [
    {
     "data": {
      "image/png": "[encoded data removed]",
      "text/plain": [
       "<Figure size 720x720 with 1 Axes>"
      ]
     },
     "metadata": {
      "needs_background": "light"
     },
     "output_type": "display_data"
    }
   ],
   "source": [
    "fig, ax = plt.subplots(figsize=(10, 10))\n",
    "ax.matshow(conf_matrix, cmap=plt.cm.Oranges, alpha=0.3)\n",
    "for i in range(conf_matrix.shape[0]):\n",
    "    for j in range(conf_matrix.shape[1]):\n",
    "        ax.text(x=j, y=i,s=conf_matrix[i, j], va='center', ha='center', size='xx-large')\n",
    " \n",
    "plt.xlabel('Predictions', fontsize=18)\n",
    "plt.ylabel('Actuals', fontsize=18)\n",
    "plt.title('Confusion Matrix', fontsize=18)\n",
    "plt.show()"
   ]
  },
  {
   "cell_type": "code",
   "execution_count": 12,
   "metadata": {
    "id": "INKmdYdz90Yb"
   },
   "outputs": [
    {
     "data": {
      "text/plain": [
       "<matplotlib.legend.Legend at 0x26f83225b20>"
      ]
     },
     "execution_count": 12,
     "metadata": {},
     "output_type": "execute_result"
    },
    {
     "data": {
      "image/png": "[encoded data removed]",
      "text/plain": [
       "<Figure size 864x576 with 1 Axes>"
      ]
     },
     "metadata": {
      "needs_background": "light"
     },
     "output_type": "display_data"
    }
   ],
   "source": [
    "plt.figure(figsize = (12, 8))\n",
    "\n",
    "fpr, tpr, _ = roc_curve(test_y, testResult)\n",
    "roc_auc = auc(fpr, tpr)\n",
    "\n",
    "plt.plot(fpr, tpr, color='darkorange', label='ROC curve (area = %0.2f)' % roc_auc)\n",
    "plt.plot([0, 1], [0, 1], color='navy', linestyle='--')\n",
    "plt.xlim([0.0, 1.0])\n",
    "plt.ylim([0.0, 1.05])\n",
    "plt.xlabel('False Positive Rate')\n",
    "plt.ylabel('True Positive Rate')\n",
    "plt.legend(loc=\"lower right\")"
   ]
  },
  {
   "cell_type": "markdown",
   "metadata": {
    "id": "UHB63ALXSw7S"
   },
   "source": [
    "# 1. Hyperparameter Testing\n",
    "Determining the best number of principal components using a variation ratio of 0.95 for PCA-related hyperparameters. "
   ]
  },
  {
   "cell_type": "code",
   "execution_count": 13,
   "metadata": {
    "id": "Dm89p8yJmyVE"
   },
   "outputs": [],
   "source": [
    "def hyperparameter_testing(p_info, results):\n",
    "    print('==============================')\n",
    "    pca = PCA(p_info)\n",
    "    X_train_pca = pca.fit_transform(train_x)\n",
    "    X_test_pca = pca.transform(test_x)\n",
    "      \n",
    "    rfc.fit(X_train_pca, train_y)\n",
    "      \n",
    "    acc = rfc.score(X_test_pca, test_y)\n",
    "    results.append([acc, pca.n_components_])\n",
    "    print(acc)\n",
    "    print(results)\n",
    "    print()\n",
    "\n",
    "    testResult = rfc.predict(X_test_pca)\n",
    "    print(classification_report(test_y, testResult))\n",
    "    print('n_component = ',pca.n_components_)"
   ]
  },
  {
   "cell_type": "code",
   "execution_count": 14,
   "metadata": {},
   "outputs": [
    {
     "name": "stdout",
     "output_type": "stream",
     "text": [
      "==============================\n",
      "0.9995617110799438\n",
      "[[0.9995617110799438, 22]]\n",
      "\n",
      "              precision    recall  f1-score   support\n",
      "\n",
      "           0       1.00      1.00      1.00      4624\n",
      "           1       1.00      1.00      1.00      6784\n",
      "\n",
      "    accuracy                           1.00     11408\n",
      "   macro avg       1.00      1.00      1.00     11408\n",
      "weighted avg       1.00      1.00      1.00     11408\n",
      "\n",
      "n_component =  22\n"
     ]
    }
   ],
   "source": [
    "results = []\n",
    "ratio_var = 0.95\n",
    "hyperparameter_testing(ratio_var, results)"
   ]
  },
  {
   "cell_type": "code",
   "execution_count": 15,
   "metadata": {
    "id": "uQB-vWtBmyVH"
   },
   "outputs": [],
   "source": [
    "maxacc = 0\n",
    "chosen_hyperparameter = None\n",
    "for result in results:\n",
    "    acc = result[0]\n",
    "    if maxacc < acc:\n",
    "        maxacc = acc\n",
    "        chosen_hyperparameter = result.copy()"
   ]
  },
  {
   "cell_type": "markdown",
   "metadata": {},
   "source": [
    "## Result of Hyperparameter Testing"
   ]
  },
  {
   "cell_type": "code",
   "execution_count": 16,
   "metadata": {},
   "outputs": [
    {
     "name": "stdout",
     "output_type": "stream",
     "text": [
      "accuracy: 0.9995617110799438 - n components: 22\n"
     ]
    }
   ],
   "source": [
    "for r in results:\n",
    "    print(f'accuracy: {r[0]} - n components: {r[1]}')"
   ]
  },
  {
   "cell_type": "markdown",
   "metadata": {
    "id": "rIOfC4g4myVi"
   },
   "source": [
    "# 2. Model Validation Testing\n",
    "Testing is performed using K-Fold validation. The results of this testing include the precision, recall, accuracy, F1-score, ROC curve, and the training time for each iteration of the model."
   ]
  },
  {
   "cell_type": "code",
   "execution_count": 55,
   "metadata": {
    "id": "edSJ5w10myVk"
   },
   "outputs": [],
   "source": [
    "def convergence_time_test(n_components, roc_list, time_list, acc_list ):\n",
    "    print('==============================')\n",
    "    print('n_components =', n_components)\n",
    "    kfold = KFold(n_splits=10, shuffle=True)\n",
    "    total_time = 0\n",
    "    total_acc = 0\n",
    "    pca = PCA(n_components=n_components)\n",
    "    i = 1\n",
    "    \n",
    "    train_x, train_y, _, _ = load_train_test(df_train, df_test)\n",
    "    for train_idx, valid_idx in kfold.split(train_x):\n",
    "        print('\\nCurrent KFold = ', i)\n",
    "        Xtrain, Xvalid = train_x.iloc[train_idx], train_x.iloc[valid_idx]\n",
    "        Ytrain, Yvalid = train_y.iloc[train_idx], train_y.iloc[valid_idx]\n",
    "        #scaling\n",
    "        scaler_kfold = StandardScaler()\n",
    "        scaler_kfold.fit(Xtrain)\n",
    "        Xtrain_scaled = scaler_kfold.transform(Xtrain)\n",
    "        Xvalid_scaled = scaler_kfold.transform(Xvalid)\n",
    "        # PCA\n",
    "        time_before_fit_transform_pca = datetime.now()\n",
    "        X_train_pca = pca.fit_transform(Xtrain_scaled)\n",
    "        time_after_fit_transform_pca = datetime.now()\n",
    "        delta_time = time_after_fit_transform_pca - time_before_fit_transform_pca\n",
    "        \n",
    "        X_valid_pca = pca.transform(Xvalid_scaled)\n",
    "        #training RF\n",
    "        rfc.fit(X_train_pca, Ytrain)\n",
    "        \n",
    "        print(time_before_fit_transform_pca)\n",
    "        print(time_after_fit_transform_pca)\n",
    "        print('time taken for fit_transform with PCA', delta_time.total_seconds())\n",
    "        print()\n",
    "        print('total time =', delta_time.total_seconds())\n",
    "        \n",
    "        total_time += delta_time.total_seconds()\n",
    "        time_list.append(delta_time.total_seconds())\n",
    "        \n",
    "        print('Data Train')\n",
    "        trainResult = rfc.predict(X_train_pca)\n",
    "        print(rfc.score(X_train_pca, Ytrain))\n",
    "        print(classification_report(Ytrain, trainResult))\n",
    "        \n",
    "        print('Data Valid')\n",
    "        validResult = rfc.predict(X_valid_pca)\n",
    "        valid_acc = rfc.score(X_valid_pca, Yvalid)\n",
    "        total_acc += valid_acc\n",
    "        acc_list.append(valid_acc)\n",
    "        print(valid_acc)\n",
    "        print(classification_report(Yvalid, validResult))\n",
    "            \n",
    "        print()\n",
    "        \n",
    "        fpr, tpr, _ = roc_curve(Yvalid, validResult)\n",
    "        roc_auc = auc(fpr, tpr)\n",
    "        roc_list.append([fpr, tpr, roc_auc])\n",
    "        print()\n",
    "        i+=1\n",
    "        \n",
    "    avg_time = total_time / 10\n",
    "    avg_total_val_acc = total_acc / 10\n",
    "    print('Average time for fit_transform PCA:', avg_time, 'seconds')\n",
    "    print('Average accuracy of 10 folds :', avg_total_val_acc)"
   ]
  },
  {
   "cell_type": "code",
   "execution_count": 56,
   "metadata": {
    "id": "ywUov-fcmyVl",
    "outputId": "b42f1c13-d5f6-4fca-80d6-0da763f182f7"
   },
   "outputs": [
    {
     "name": "stdout",
     "output_type": "stream",
     "text": [
      "==============================\n",
      "n_components = 22\n",
      "\n",
      "Current KFold =  1\n",
      "2023-07-02 15:58:20.105599\n",
      "2023-07-02 15:58:20.554629\n",
      "time taken for fit_transform with PCA 0.44903\n",
      "\n",
      "total time = 0.44903\n",
      "Data Train\n",
      "0.9999512967247047\n",
      "              precision    recall  f1-score   support\n",
      "\n",
      "           0       1.00      1.00      1.00     16615\n",
      "           1       1.00      1.00      1.00     24450\n",
      "\n",
      "    accuracy                           1.00     41065\n",
      "   macro avg       1.00      1.00      1.00     41065\n",
      "weighted avg       1.00      1.00      1.00     41065\n",
      "\n",
      "Data Valid\n",
      "0.9995616918693842\n",
      "              precision    recall  f1-score   support\n",
      "\n",
      "           0       1.00      1.00      1.00      1850\n",
      "           1       1.00      1.00      1.00      2713\n",
      "\n",
      "    accuracy                           1.00      4563\n",
      "   macro avg       1.00      1.00      1.00      4563\n",
      "weighted avg       1.00      1.00      1.00      4563\n",
      "\n",
      "\n",
      "\n",
      "\n",
      "Current KFold =  2\n",
      "2023-07-02 15:58:21.248073\n",
      "2023-07-02 15:58:21.711614\n",
      "time taken for fit_transform with PCA 0.463541\n",
      "\n",
      "total time = 0.463541\n",
      "Data Train\n",
      "0.9999025934494095\n",
      "              precision    recall  f1-score   support\n",
      "\n",
      "           0       1.00      1.00      1.00     16630\n",
      "           1       1.00      1.00      1.00     24435\n",
      "\n",
      "    accuracy                           1.00     41065\n",
      "   macro avg       1.00      1.00      1.00     41065\n",
      "weighted avg       1.00      1.00      1.00     41065\n",
      "\n",
      "Data Valid\n",
      "0.9997808459346921\n",
      "              precision    recall  f1-score   support\n",
      "\n",
      "           0       1.00      1.00      1.00      1835\n",
      "           1       1.00      1.00      1.00      2728\n",
      "\n",
      "    accuracy                           1.00      4563\n",
      "   macro avg       1.00      1.00      1.00      4563\n",
      "weighted avg       1.00      1.00      1.00      4563\n",
      "\n",
      "\n",
      "\n",
      "\n",
      "Current KFold =  3\n",
      "2023-07-02 15:58:22.431700\n",
      "2023-07-02 15:58:22.911500\n",
      "time taken for fit_transform with PCA 0.4798\n",
      "\n",
      "total time = 0.4798\n",
      "Data Train\n",
      "0.9999025934494095\n",
      "              precision    recall  f1-score   support\n",
      "\n",
      "           0       1.00      1.00      1.00     16532\n",
      "           1       1.00      1.00      1.00     24533\n",
      "\n",
      "    accuracy                           1.00     41065\n",
      "   macro avg       1.00      1.00      1.00     41065\n",
      "weighted avg       1.00      1.00      1.00     41065\n",
      "\n",
      "Data Valid\n",
      "0.9997808459346921\n",
      "              precision    recall  f1-score   support\n",
      "\n",
      "           0       1.00      1.00      1.00      1933\n",
      "           1       1.00      1.00      1.00      2630\n",
      "\n",
      "    accuracy                           1.00      4563\n",
      "   macro avg       1.00      1.00      1.00      4563\n",
      "weighted avg       1.00      1.00      1.00      4563\n",
      "\n",
      "\n",
      "\n",
      "\n",
      "Current KFold =  4\n",
      "2023-07-02 15:58:23.664085\n",
      "2023-07-02 15:58:24.114059\n",
      "time taken for fit_transform with PCA 0.449974\n",
      "\n",
      "total time = 0.449974\n",
      "Data Train\n",
      "0.9999512967247047\n",
      "              precision    recall  f1-score   support\n",
      "\n",
      "           0       1.00      1.00      1.00     16662\n",
      "           1       1.00      1.00      1.00     24403\n",
      "\n",
      "    accuracy                           1.00     41065\n",
      "   macro avg       1.00      1.00      1.00     41065\n",
      "weighted avg       1.00      1.00      1.00     41065\n",
      "\n",
      "Data Valid\n",
      "0.9993425378040762\n",
      "              precision    recall  f1-score   support\n",
      "\n",
      "           0       1.00      1.00      1.00      1803\n",
      "           1       1.00      1.00      1.00      2760\n",
      "\n",
      "    accuracy                           1.00      4563\n",
      "   macro avg       1.00      1.00      1.00      4563\n",
      "weighted avg       1.00      1.00      1.00      4563\n",
      "\n",
      "\n",
      "\n",
      "\n",
      "Current KFold =  5\n",
      "2023-07-02 15:58:24.789998\n",
      "2023-07-02 15:58:25.211101\n",
      "time taken for fit_transform with PCA 0.421103\n",
      "\n",
      "total time = 0.421103\n",
      "Data Train\n",
      "0.9999269450870572\n",
      "              precision    recall  f1-score   support\n",
      "\n",
      "           0       1.00      1.00      1.00     16628\n",
      "           1       1.00      1.00      1.00     24437\n",
      "\n",
      "    accuracy                           1.00     41065\n",
      "   macro avg       1.00      1.00      1.00     41065\n",
      "weighted avg       1.00      1.00      1.00     41065\n",
      "\n",
      "Data Valid\n",
      "0.9989042296734605\n",
      "              precision    recall  f1-score   support\n",
      "\n",
      "           0       1.00      1.00      1.00      1837\n",
      "           1       1.00      1.00      1.00      2726\n",
      "\n",
      "    accuracy                           1.00      4563\n",
      "   macro avg       1.00      1.00      1.00      4563\n",
      "weighted avg       1.00      1.00      1.00      4563\n",
      "\n",
      "\n",
      "\n",
      "\n",
      "Current KFold =  6\n",
      "2023-07-02 15:58:25.962410\n",
      "2023-07-02 15:58:26.433250\n",
      "time taken for fit_transform with PCA 0.47084\n",
      "\n",
      "total time = 0.47084\n",
      "Data Train\n",
      "0.9999025934494095\n",
      "              precision    recall  f1-score   support\n",
      "\n",
      "           0       1.00      1.00      1.00     16614\n",
      "           1       1.00      1.00      1.00     24451\n",
      "\n",
      "    accuracy                           1.00     41065\n",
      "   macro avg       1.00      1.00      1.00     41065\n",
      "weighted avg       1.00      1.00      1.00     41065\n",
      "\n",
      "Data Valid\n",
      "0.9997808459346921\n",
      "              precision    recall  f1-score   support\n",
      "\n",
      "           0       1.00      1.00      1.00      1851\n",
      "           1       1.00      1.00      1.00      2712\n",
      "\n",
      "    accuracy                           1.00      4563\n",
      "   macro avg       1.00      1.00      1.00      4563\n",
      "weighted avg       1.00      1.00      1.00      4563\n",
      "\n",
      "\n",
      "\n",
      "\n",
      "Current KFold =  7\n",
      "2023-07-02 15:58:27.146829\n",
      "2023-07-02 15:58:27.646571\n",
      "time taken for fit_transform with PCA 0.499742\n",
      "\n",
      "total time = 0.499742\n",
      "Data Train\n",
      "0.9999025934494095\n",
      "              precision    recall  f1-score   support\n",
      "\n",
      "           0       1.00      1.00      1.00     16654\n",
      "           1       1.00      1.00      1.00     24411\n",
      "\n",
      "    accuracy                           1.00     41065\n",
      "   macro avg       1.00      1.00      1.00     41065\n",
      "weighted avg       1.00      1.00      1.00     41065\n",
      "\n",
      "Data Valid\n",
      "0.9997808459346921\n",
      "              precision    recall  f1-score   support\n",
      "\n",
      "           0       1.00      1.00      1.00      1811\n",
      "           1       1.00      1.00      1.00      2752\n",
      "\n",
      "    accuracy                           1.00      4563\n",
      "   macro avg       1.00      1.00      1.00      4563\n",
      "weighted avg       1.00      1.00      1.00      4563\n",
      "\n",
      "\n",
      "\n",
      "\n",
      "Current KFold =  8\n",
      "2023-07-02 15:58:28.356690\n",
      "2023-07-02 15:58:28.800122\n",
      "time taken for fit_transform with PCA 0.443432\n",
      "\n",
      "total time = 0.443432\n",
      "Data Train\n",
      "0.9999025934494095\n",
      "              precision    recall  f1-score   support\n",
      "\n",
      "           0       1.00      1.00      1.00     16640\n",
      "           1       1.00      1.00      1.00     24425\n",
      "\n",
      "    accuracy                           1.00     41065\n",
      "   macro avg       1.00      1.00      1.00     41065\n",
      "weighted avg       1.00      1.00      1.00     41065\n",
      "\n",
      "Data Valid\n",
      "0.9997808459346921\n",
      "              precision    recall  f1-score   support\n",
      "\n",
      "           0       1.00      1.00      1.00      1825\n",
      "           1       1.00      1.00      1.00      2738\n",
      "\n",
      "    accuracy                           1.00      4563\n",
      "   macro avg       1.00      1.00      1.00      4563\n",
      "weighted avg       1.00      1.00      1.00      4563\n",
      "\n",
      "\n",
      "\n",
      "\n",
      "Current KFold =  9\n",
      "2023-07-02 15:58:29.545719\n",
      "2023-07-02 15:58:29.956422\n",
      "time taken for fit_transform with PCA 0.410703\n",
      "\n",
      "total time = 0.410703\n",
      "Data Train\n",
      "0.9999025958213608\n",
      "              precision    recall  f1-score   support\n",
      "\n",
      "           0       1.00      1.00      1.00     16562\n",
      "           1       1.00      1.00      1.00     24504\n",
      "\n",
      "    accuracy                           1.00     41066\n",
      "   macro avg       1.00      1.00      1.00     41066\n",
      "weighted avg       1.00      1.00      1.00     41066\n",
      "\n",
      "Data Valid\n",
      "1.0\n",
      "              precision    recall  f1-score   support\n",
      "\n",
      "           0       1.00      1.00      1.00      1903\n",
      "           1       1.00      1.00      1.00      2659\n",
      "\n",
      "    accuracy                           1.00      4562\n",
      "   macro avg       1.00      1.00      1.00      4562\n",
      "weighted avg       1.00      1.00      1.00      4562\n",
      "\n",
      "\n",
      "\n",
      "\n",
      "Current KFold =  10\n",
      "2023-07-02 15:58:30.646301\n",
      "2023-07-02 15:58:31.111656\n",
      "time taken for fit_transform with PCA 0.465355\n",
      "\n",
      "total time = 0.465355\n",
      "Data Train\n",
      "0.9999269468660206\n",
      "              precision    recall  f1-score   support\n",
      "\n",
      "           0       1.00      1.00      1.00     16648\n",
      "           1       1.00      1.00      1.00     24418\n",
      "\n",
      "    accuracy                           1.00     41066\n",
      "   macro avg       1.00      1.00      1.00     41066\n",
      "weighted avg       1.00      1.00      1.00     41066\n",
      "\n",
      "Data Valid\n",
      "1.0\n",
      "              precision    recall  f1-score   support\n",
      "\n",
      "           0       1.00      1.00      1.00      1817\n",
      "           1       1.00      1.00      1.00      2745\n",
      "\n",
      "    accuracy                           1.00      4562\n",
      "   macro avg       1.00      1.00      1.00      4562\n",
      "weighted avg       1.00      1.00      1.00      4562\n",
      "\n",
      "\n",
      "\n",
      "Average time for fit_transform PCA: 0.455352 seconds\n",
      "Average accuracy of 10 folds : 0.9996712689020383\n"
     ]
    }
   ],
   "source": [
    "n_components = chosen_hyperparameter[1]\n",
    "roc_list = []\n",
    "time_list = []\n",
    "acc_list = []\n",
    "convergence_time_test(n_components, roc_list, time_list, acc_list)"
   ]
  },
  {
   "cell_type": "markdown",
   "metadata": {},
   "source": [
    "## Result of Validation Model"
   ]
  },
  {
   "cell_type": "code",
   "execution_count": 57,
   "metadata": {},
   "outputs": [
    {
     "name": "stdout",
     "output_type": "stream",
     "text": [
      "fold 1 - accuracy: 0.9995616918693842 - time PCA: 0.44903 \n",
      "fold 2 - accuracy: 0.9997808459346921 - time PCA: 0.463541 \n",
      "fold 3 - accuracy: 0.9997808459346921 - time PCA: 0.4798 \n",
      "fold 4 - accuracy: 0.9993425378040762 - time PCA: 0.449974 \n",
      "fold 5 - accuracy: 0.9989042296734605 - time PCA: 0.421103 \n",
      "fold 6 - accuracy: 0.9997808459346921 - time PCA: 0.47084 \n",
      "fold 7 - accuracy: 0.9997808459346921 - time PCA: 0.499742 \n",
      "fold 8 - accuracy: 0.9997808459346921 - time PCA: 0.443432 \n",
      "fold 9 - accuracy: 1.0 - time PCA: 0.410703 \n",
      "fold 10 - accuracy: 1.0 - time PCA: 0.465355 \n"
     ]
    }
   ],
   "source": [
    "for i,acc in enumerate(acc_list):\n",
    "    print(f'fold {i+1} - accuracy: {acc} - time PCA: {time_list[i]} ')"
   ]
  },
  {
   "cell_type": "code",
   "execution_count": 60,
   "metadata": {
    "id": "d3SjeqNAmyVl",
    "outputId": "397dfca1-e3ec-4944-9d0b-5ccfe9346e08"
   },
   "outputs": [
    {
     "data": {
      "image/png": "[encoded data removed]",
      "text/plain": [
       "<Figure size 1080x792 with 1 Axes>"
      ]
     },
     "metadata": {
      "needs_background": "light"
     },
     "output_type": "display_data"
    }
   ],
   "source": [
    "plt.figure(figsize = (15, 11))\n",
    "colors = ['blue', 'green', 'red', 'cyan', 'magenta', 'brown', 'black', 'gray', 'orange', 'purple']\n",
    "\n",
    "for i in range(10):        \n",
    "    plt.plot(roc_list[i][0], roc_list[i][1], color=colors[i-1], label=f'ROC curve {i+1} fold (area = %0.2f)' % roc_list[i][2])\n",
    "plt.plot([0, 1], [0, 1], color='navy', linestyle='--')\n",
    "plt.xlim([0.0, 1.0])\n",
    "plt.ylim([0.0, 1.05])\n",
    "plt.xlabel('False Positive Rate')\n",
    "plt.ylabel('True Positive Rate')\n",
    "plt.legend(loc=\"lower right\")\n",
    "plt.show()"
   ]
  },
  {
   "cell_type": "code",
   "execution_count": 61,
   "metadata": {},
   "outputs": [
    {
     "name": "stdout",
     "output_type": "stream",
     "text": [
      "ROC curve 1 fold (area = 0.9994594594594595)\n",
      "ROC curve 2 fold (area = 0.9998167155425219)\n",
      "ROC curve 3 fold (area = 0.999809885931559)\n",
      "ROC curve 4 fold (area = 0.9992642094094384)\n",
      "ROC curve 5 fold (area = 0.9989941413777528)\n",
      "ROC curve 6 fold (area = 0.9997298757428418)\n",
      "ROC curve 7 fold (area = 0.9998183139534884)\n",
      "ROC curve 8 fold (area = 0.9997260273972604)\n",
      "ROC curve 9 fold (area = 1.0)\n",
      "ROC curve 10 fold (area = 1.0)\n"
     ]
    }
   ],
   "source": [
    "for i,roc in enumerate(roc_list):\n",
    "    print(f'ROC curve {i+1} fold (area = {roc[2]})')"
   ]
  }
 ],
 "metadata": {
  "accelerator": "GPU",
  "colab": {
   "collapsed_sections": [
    "ywDHbtgmIZv_",
    "YNGeY2xUIe0k",
    "v4HSqnvL--th",
    "xVGLOLFEqlx8",
    "8vw3Ktt6qsYL",
    "muBX8nzOqs3R"
   ],
   "gpuType": "T4",
   "provenance": []
  },
  "gpuClass": "standard",
  "kernelspec": {
   "display_name": "Python 3 (ipykernel)",
   "language": "python",
   "name": "python3"
  },
  "language_info": {
   "codemirror_mode": {
    "name": "ipython",
    "version": 3
   },
   "file_extension": ".py",
   "mimetype": "text/x-python",
   "name": "python",
   "nbconvert_exporter": "python",
   "pygments_lexer": "ipython3",
   "version": "3.9.12"
  }
 },
 "nbformat": 4,
 "nbformat_minor": 1
}
