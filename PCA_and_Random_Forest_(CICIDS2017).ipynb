{
 "cells": [
  {
   "cell_type": "markdown",
   "metadata": {},
   "source": [
    "# Import Library"
   ]
  },
  {
   "cell_type": "code",
   "execution_count": 2,
   "metadata": {
    "id": "WHxyEQ5B_m5B"
   },
   "outputs": [],
   "source": [
    "import matplotlib.pyplot as plt\n",
    "import seaborn as sns\n",
    "from datetime import datetime, timedelta\n",
    "import pandas as pd\n",
    "import os\n",
    "from sklearn.ensemble import RandomForestClassifier\n",
    "from sklearn.model_selection import train_test_split,KFold\n",
    "from sklearn.preprocessing import StandardScaler\n",
    "from sklearn.metrics import classification_report, roc_curve, auc, confusion_matrix\n",
    "from sklearn.decomposition import PCA"
   ]
  },
  {
   "cell_type": "code",
   "execution_count": 4,
   "metadata": {},
   "outputs": [],
   "source": [
    "# read train data and test data from directory\n",
    "# dir_dataset = \"E:\\ilmu\\Kuliah\\sem 7 dan 8\\Tugas Akhir\\dataset\\CICIDS2017\\Dataset CICIDS2017\"\n",
    "dir_dataset = 'TRAIN DATA AND TEST DATA DIRECTORY'\n",
    "\n",
    "df_train = pd.read_csv(dir_dataset + '\\\\train.csv')\n",
    "df_test = pd.read_csv(dir_dataset + '\\\\test.csv')"
   ]
  },
  {
   "cell_type": "code",
   "execution_count": 5,
   "metadata": {},
   "outputs": [],
   "source": [
    "#  load dataset into train data, train labels, test data and test labels\n",
    "def load_train_test(df_train, df_test):\n",
    "    train_x, train_y = df_train.iloc[:, :-1], df_train.iloc[:, -1]\n",
    "    test_x, test_y = df_test.iloc[:, :-1], df_test.iloc[:, -1]\n",
    "    return train_x, train_y, test_x, test_y"
   ]
  },
  {
   "cell_type": "code",
   "execution_count": 6,
   "metadata": {},
   "outputs": [],
   "source": [
    "# call function load_train_test()\n",
    "train_x, train_y, test_x, test_y = load_train_test(df_train, df_test)"
   ]
  },
  {
   "cell_type": "code",
   "execution_count": 7,
   "metadata": {},
   "outputs": [],
   "source": [
    "# scaling train data and test data\n",
    "scaler = StandardScaler()\n",
    "scaler.fit(train_x)\n",
    "train_x = scaler.transform(train_x)\n",
    "test_x = scaler.transform(test_x)"
   ]
  },
  {
   "cell_type": "code",
   "execution_count": 8,
   "metadata": {
    "id": "aofE0mcVbCAv"
   },
   "outputs": [],
   "source": [
    "# construct random forest classifier\n",
    "rfc = RandomForestClassifier(n_jobs=-1, n_estimators=10)"
   ]
  },
  {
   "cell_type": "code",
   "execution_count": 9,
   "metadata": {},
   "outputs": [
    {
     "name": "stdout",
     "output_type": "stream",
     "text": [
      "\n",
      "               precision    recall  f1-score   support\n",
      "\n",
      "           0       1.00      1.00      1.00    136200\n",
      "           1       1.00      0.99      0.99     33471\n",
      "\n",
      "    accuracy                           1.00    169671\n",
      "   macro avg       1.00      1.00      1.00    169671\n",
      "weighted avg       1.00      1.00      1.00    169671\n",
      "\n"
     ]
    }
   ],
   "source": [
    "# construct PCA and transform data\n",
    "pca = PCA(0.95)\n",
    "X_train_pca = pca.fit_transform(train_x)\n",
    "X_test_pca = pca.transform(test_x)\n",
    "\n",
    "# train model with a new data\n",
    "rfc.fit(X_train_pca, train_y)\n",
    "\n",
    "# evaluate\n",
    "acc = rfc.score(X_test_pca, test_y)\n",
    "testResult = rfc.predict(X_test_pca)\n",
    "\n",
    "print('\\n',classification_report(test_y, testResult))\n"
   ]
  },
  {
   "cell_type": "markdown",
   "metadata": {
    "id": "ywDHbtgmIZv_"
   },
   "source": [
    "# Evaluation Metric\n",
    "Evaluation metrics are used to assess the performance of a model. The metrics used include precision, recall, F1 score, accuracy, and ROC curve."
   ]
  },
  {
   "cell_type": "code",
   "execution_count": 43,
   "metadata": {
    "id": "T0khip8qBgN5"
   },
   "outputs": [],
   "source": [
    "testResult = rfc.predict(X_test_pca)"
   ]
  },
  {
   "cell_type": "code",
   "execution_count": 44,
   "metadata": {
    "id": "jBtAt_cEBSmQ"
   },
   "outputs": [
    {
     "name": "stdout",
     "output_type": "stream",
     "text": [
      "              precision    recall  f1-score   support\n",
      "\n",
      "           0       0.97      1.00      0.98    136200\n",
      "           1       1.00      0.87      0.93     33471\n",
      "\n",
      "    accuracy                           0.97    169671\n",
      "   macro avg       0.98      0.93      0.96    169671\n",
      "weighted avg       0.97      0.97      0.97    169671\n",
      "\n"
     ]
    }
   ],
   "source": [
    "print(classification_report(test_y, testResult))"
   ]
  },
  {
   "cell_type": "code",
   "execution_count": 45,
   "metadata": {
    "id": "yDn4N4DuCEfI"
   },
   "outputs": [],
   "source": [
    "from sklearn.metrics import confusion_matrix\n",
    "conf_matrix = confusion_matrix(y_true=test_y, y_pred=testResult)"
   ]
  },
  {
   "cell_type": "code",
   "execution_count": 46,
   "metadata": {
    "id": "wxbE6eb3COAP"
   },
   "outputs": [
    {
     "data": {
      "image/png": "[encoded data removed]",
      "text/plain": [
       "<Figure size 720x720 with 1 Axes>"
      ]
     },
     "metadata": {
      "needs_background": "light"
     },
     "output_type": "display_data"
    }
   ],
   "source": [
    "fig, ax = plt.subplots(figsize=(10, 10))\n",
    "ax.matshow(conf_matrix, cmap=plt.cm.Oranges, alpha=0.3)\n",
    "for i in range(conf_matrix.shape[0]):\n",
    "    for j in range(conf_matrix.shape[1]):\n",
    "        ax.text(x=j, y=i,s=conf_matrix[i, j], va='center', ha='center', size='xx-large')\n",
    " \n",
    "plt.xlabel('Predictions', fontsize=18)\n",
    "plt.ylabel('Actuals', fontsize=18)\n",
    "plt.title('Confusion Matrix', fontsize=18)\n",
    "plt.show()"
   ]
  },
  {
   "cell_type": "code",
   "execution_count": 47,
   "metadata": {
    "id": "INKmdYdz90Yb"
   },
   "outputs": [
    {
     "data": {
      "text/plain": [
       "<matplotlib.legend.Legend at 0x223a8088d00>"
      ]
     },
     "execution_count": 47,
     "metadata": {},
     "output_type": "execute_result"
    },
    {
     "data": {
      "image/png": "[encoded data removed]",
      "text/plain": [
       "<Figure size 864x576 with 1 Axes>"
      ]
     },
     "metadata": {
      "needs_background": "light"
     },
     "output_type": "display_data"
    }
   ],
   "source": [
    "plt.figure(figsize = (12, 8))\n",
    "\n",
    "fpr, tpr, _ = roc_curve(test_y, testResult)\n",
    "roc_auc = auc(fpr, tpr)\n",
    "\n",
    "plt.plot(fpr, tpr, color='darkorange', label='ROC curve (area = %0.2f)' % roc_auc)\n",
    "plt.plot([0, 1], [0, 1], color='navy', linestyle='--')\n",
    "plt.xlim([0.0, 1.0])\n",
    "plt.ylim([0.0, 1.05])\n",
    "plt.xlabel('False Positive Rate')\n",
    "plt.ylabel('True Positive Rate')\n",
    "plt.legend(loc=\"lower right\")"
   ]
  },
  {
   "cell_type": "markdown",
   "metadata": {
    "id": "UHB63ALXSw7S"
   },
   "source": [
    "# 1. Hyperparameter Testing\n",
    "Determining the best number of principal components using a variation ratio of 0.95 for PCA-related hyperparameters. "
   ]
  },
  {
   "cell_type": "code",
   "execution_count": 10,
   "metadata": {},
   "outputs": [],
   "source": [
    "def hyperparameter_testing(p_info, results):\n",
    "    print('==============================')\n",
    "    pca = PCA(p_info)\n",
    "    X_train_pca = pca.fit_transform(train_x)\n",
    "    X_test_pca = pca.transform(test_x)\n",
    "      \n",
    "    rfc.fit(X_train_pca, train_y)\n",
    "      \n",
    "    acc = rfc.score(X_test_pca, test_y)\n",
    "    results.append([acc, pca.n_components_])\n",
    "    print(acc)\n",
    "    print(results)\n",
    "    print()\n",
    "\n",
    "    testResult = rfc.predict(X_test_pca)\n",
    "    print(classification_report(test_y, testResult))\n",
    "    print('n_component = ',pca.n_components_)"
   ]
  },
  {
   "cell_type": "code",
   "execution_count": 12,
   "metadata": {},
   "outputs": [
    {
     "name": "stdout",
     "output_type": "stream",
     "text": [
      "==============================\n",
      "0.9977132214697857\n",
      "[[0.9977132214697857, 25]]\n",
      "\n",
      "              precision    recall  f1-score   support\n",
      "\n",
      "           0       1.00      1.00      1.00    136200\n",
      "           1       0.99      0.99      0.99     33471\n",
      "\n",
      "    accuracy                           1.00    169671\n",
      "   macro avg       1.00      1.00      1.00    169671\n",
      "weighted avg       1.00      1.00      1.00    169671\n",
      "\n",
      "n_component =  25\n"
     ]
    }
   ],
   "source": [
    "results = []\n",
    "ratio_var = 0.95\n",
    "hyperparameter_testing(ratio_var, results)"
   ]
  },
  {
   "cell_type": "code",
   "execution_count": 13,
   "metadata": {},
   "outputs": [],
   "source": [
    "maxacc = 0\n",
    "chosen_hyperparameter = None\n",
    "for result in results:\n",
    "    acc = result[0]\n",
    "    if maxacc < acc:\n",
    "        maxacc = acc\n",
    "        chosen_hyperparameter = result.copy()"
   ]
  },
  {
   "cell_type": "markdown",
   "metadata": {},
   "source": [
    "## Result of Hyperparameter Testing"
   ]
  },
  {
   "cell_type": "code",
   "execution_count": 14,
   "metadata": {},
   "outputs": [
    {
     "name": "stdout",
     "output_type": "stream",
     "text": [
      "accuracy: 0.9977132214697857 - n_components: 25\n"
     ]
    }
   ],
   "source": [
    "for r in results:\n",
    "    print(f'accuracy: {r[0]} - n_components: {r[1]}')"
   ]
  },
  {
   "cell_type": "markdown",
   "metadata": {
    "id": "FURhomBJS3Wq"
   },
   "source": [
    "# 2. Model Validation Testing\n",
    "Testing is performed using K-Fold validation. The results of this testing include the precision, recall, accuracy, F1-score, ROC curve, and the training time for each iteration of the model."
   ]
  },
  {
   "cell_type": "code",
   "execution_count": 30,
   "metadata": {},
   "outputs": [],
   "source": [
    "def convergence_time_test(n_components, roc_list, time_list, acc_list ):\n",
    "    print('==============================')\n",
    "    print('n_components =', n_components)\n",
    "    kfold = KFold(n_splits=10, shuffle=True)\n",
    "    total_time = 0\n",
    "    total_acc = 0\n",
    "    pca = PCA(n_components=n_components)\n",
    "    i = 1\n",
    "    \n",
    "    train_x, train_y, _, _ = load_train_test(df_train, df_test)\n",
    "    for train_idx, valid_idx in kfold.split(train_x):\n",
    "        print('\\nCurrent KFold = ', i)\n",
    "        Xtrain, Xvalid = train_x.iloc[train_idx], train_x.iloc[valid_idx]\n",
    "        Ytrain, Yvalid = train_y.iloc[train_idx], train_y.iloc[valid_idx]\n",
    "        #scaling\n",
    "        scaler_kfold = StandardScaler()\n",
    "        scaler_kfold.fit(Xtrain)\n",
    "        Xtrain_scaled = scaler_kfold.transform(Xtrain)\n",
    "        Xvalid_scaled = scaler_kfold.transform(Xvalid)\n",
    "        # PCA\n",
    "        time_before_fit_transform_pca = datetime.now()\n",
    "        X_train_pca = pca.fit_transform(Xtrain_scaled)\n",
    "        time_after_fit_transform_pca = datetime.now()\n",
    "        delta_time = time_after_fit_transform_pca - time_before_fit_transform_pca\n",
    "        \n",
    "        X_valid_pca = pca.transform(Xvalid_scaled)\n",
    "        #training RF\n",
    "        rfc.fit(X_train_pca, Ytrain)\n",
    "        \n",
    "        print(time_before_fit_transform_pca)\n",
    "        print(time_after_fit_transform_pca)\n",
    "        print('time taken for fit_transform with PCA', delta_time.total_seconds())\n",
    "        print()\n",
    "        print('total time =', delta_time.total_seconds())\n",
    "        \n",
    "        total_time += delta_time.total_seconds()\n",
    "        time_list.append(delta_time.total_seconds())\n",
    "        \n",
    "        print('Data Train')\n",
    "        trainResult = rfc.predict(X_train_pca)\n",
    "        print(rfc.score(X_train_pca, Ytrain))\n",
    "        print(classification_report(Ytrain, trainResult))\n",
    "        \n",
    "        print('Data Valid')\n",
    "        validResult = rfc.predict(X_valid_pca)\n",
    "        valid_acc = rfc.score(X_valid_pca, Yvalid)\n",
    "        total_acc += valid_acc\n",
    "        acc_list.append(valid_acc)\n",
    "        print(valid_acc)\n",
    "        print(classification_report(Yvalid, validResult))\n",
    "            \n",
    "        print()\n",
    "        \n",
    "        fpr, tpr, _ = roc_curve(Yvalid, validResult)\n",
    "        roc_auc = auc(fpr, tpr)\n",
    "        roc_list.append([fpr, tpr, roc_auc])\n",
    "        print()\n",
    "        i+=1\n",
    "        \n",
    "    avg_time = total_time / 10\n",
    "    avg_total_val_acc = total_acc / 10\n",
    "    print('Average time for fit_transform PCA:', avg_time, 'seconds')\n",
    "    print('Average accuracy of 10 folds :', avg_total_val_acc)"
   ]
  },
  {
   "cell_type": "code",
   "execution_count": 31,
   "metadata": {},
   "outputs": [
    {
     "name": "stdout",
     "output_type": "stream",
     "text": [
      "==============================\n",
      "n_components = 25\n",
      "\n",
      "Current KFold =  1\n",
      "2023-07-02 14:22:00.679519\n",
      "2023-07-02 14:22:13.328869\n",
      "time taken for fit_transform with PCA 12.64935\n",
      "\n",
      "total time = 12.64935\n",
      "Data Train\n",
      "0.9996971244834745\n",
      "              precision    recall  f1-score   support\n",
      "\n",
      "           0       1.00      1.00      1.00    490530\n",
      "           1       1.00      1.00      1.00    120282\n",
      "\n",
      "    accuracy                           1.00    610812\n",
      "   macro avg       1.00      1.00      1.00    610812\n",
      "weighted avg       1.00      1.00      1.00    610812\n",
      "\n",
      "Data Valid\n",
      "0.9976130486672855\n",
      "              precision    recall  f1-score   support\n",
      "\n",
      "           0       1.00      1.00      1.00     54354\n",
      "           1       1.00      0.99      0.99     13515\n",
      "\n",
      "    accuracy                           1.00     67869\n",
      "   macro avg       1.00      1.00      1.00     67869\n",
      "weighted avg       1.00      1.00      1.00     67869\n",
      "\n",
      "\n",
      "\n",
      "\n",
      "Current KFold =  2\n",
      "2023-07-02 14:22:55.084393\n",
      "2023-07-02 14:23:03.411136\n",
      "time taken for fit_transform with PCA 8.326743\n",
      "\n",
      "total time = 8.326743\n",
      "Data Train\n",
      "0.9997249567379869\n",
      "              precision    recall  f1-score   support\n",
      "\n",
      "           0       1.00      1.00      1.00    490457\n",
      "           1       1.00      1.00      1.00    120356\n",
      "\n",
      "    accuracy                           1.00    610813\n",
      "   macro avg       1.00      1.00      1.00    610813\n",
      "weighted avg       1.00      1.00      1.00    610813\n",
      "\n",
      "Data Valid\n",
      "0.9942240820416102\n",
      "              precision    recall  f1-score   support\n",
      "\n",
      "           0       0.99      1.00      1.00     54427\n",
      "           1       0.99      0.98      0.99     13441\n",
      "\n",
      "    accuracy                           0.99     67868\n",
      "   macro avg       0.99      0.99      0.99     67868\n",
      "weighted avg       0.99      0.99      0.99     67868\n",
      "\n",
      "\n",
      "\n",
      "\n",
      "Current KFold =  3\n",
      "2023-07-02 14:23:47.358411\n",
      "2023-07-02 14:23:57.452643\n",
      "time taken for fit_transform with PCA 10.094232\n",
      "\n",
      "total time = 10.094232\n",
      "Data Train\n",
      "0.9996840276811397\n",
      "              precision    recall  f1-score   support\n",
      "\n",
      "           0       1.00      1.00      1.00    490355\n",
      "           1       1.00      1.00      1.00    120458\n",
      "\n",
      "    accuracy                           1.00    610813\n",
      "   macro avg       1.00      1.00      1.00    610813\n",
      "weighted avg       1.00      1.00      1.00    610813\n",
      "\n",
      "Data Valid\n",
      "0.9970825720516296\n",
      "              precision    recall  f1-score   support\n",
      "\n",
      "           0       1.00      1.00      1.00     54529\n",
      "           1       0.99      0.99      0.99     13339\n",
      "\n",
      "    accuracy                           1.00     67868\n",
      "   macro avg       1.00      0.99      1.00     67868\n",
      "weighted avg       1.00      1.00      1.00     67868\n",
      "\n",
      "\n",
      "\n",
      "\n",
      "Current KFold =  4\n",
      "2023-07-02 14:24:39.438931\n",
      "2023-07-02 14:24:49.823077\n",
      "time taken for fit_transform with PCA 10.384146\n",
      "\n",
      "total time = 10.384146\n",
      "Data Train\n",
      "0.9996856648434136\n",
      "              precision    recall  f1-score   support\n",
      "\n",
      "           0       1.00      1.00      1.00    490417\n",
      "           1       1.00      1.00      1.00    120396\n",
      "\n",
      "    accuracy                           1.00    610813\n",
      "   macro avg       1.00      1.00      1.00    610813\n",
      "weighted avg       1.00      1.00      1.00    610813\n",
      "\n",
      "Data Valid\n",
      "0.9975835445276124\n",
      "              precision    recall  f1-score   support\n",
      "\n",
      "           0       1.00      1.00      1.00     54467\n",
      "           1       0.99      0.99      0.99     13401\n",
      "\n",
      "    accuracy                           1.00     67868\n",
      "   macro avg       1.00      1.00      1.00     67868\n",
      "weighted avg       1.00      1.00      1.00     67868\n",
      "\n",
      "\n",
      "\n",
      "\n",
      "Current KFold =  5\n",
      "2023-07-02 14:25:31.240812\n",
      "2023-07-02 14:25:41.756514\n",
      "time taken for fit_transform with PCA 10.515702\n",
      "\n",
      "total time = 10.515702\n",
      "Data Train\n",
      "0.9997036736284264\n",
      "              precision    recall  f1-score   support\n",
      "\n",
      "           0       1.00      1.00      1.00    490267\n",
      "           1       1.00      1.00      1.00    120546\n",
      "\n",
      "    accuracy                           1.00    610813\n",
      "   macro avg       1.00      1.00      1.00    610813\n",
      "weighted avg       1.00      1.00      1.00    610813\n",
      "\n",
      "Data Valid\n",
      "0.9978634997347793\n",
      "              precision    recall  f1-score   support\n",
      "\n",
      "           0       1.00      1.00      1.00     54617\n",
      "           1       1.00      0.99      0.99     13251\n",
      "\n",
      "    accuracy                           1.00     67868\n",
      "   macro avg       1.00      1.00      1.00     67868\n",
      "weighted avg       1.00      1.00      1.00     67868\n",
      "\n",
      "\n",
      "\n",
      "\n",
      "Current KFold =  6\n",
      "2023-07-02 14:26:25.496893\n",
      "2023-07-02 14:26:36.099900\n",
      "time taken for fit_transform with PCA 10.603007\n",
      "\n",
      "total time = 10.603007\n",
      "Data Train\n",
      "0.9997331425493563\n",
      "              precision    recall  f1-score   support\n",
      "\n",
      "           0       1.00      1.00      1.00    490501\n",
      "           1       1.00      1.00      1.00    120312\n",
      "\n",
      "    accuracy                           1.00    610813\n",
      "   macro avg       1.00      1.00      1.00    610813\n",
      "weighted avg       1.00      1.00      1.00    610813\n",
      "\n",
      "Data Valid\n",
      "0.997554075558437\n",
      "              precision    recall  f1-score   support\n",
      "\n",
      "           0       1.00      1.00      1.00     54383\n",
      "           1       0.99      0.99      0.99     13485\n",
      "\n",
      "    accuracy                           1.00     67868\n",
      "   macro avg       1.00      1.00      1.00     67868\n",
      "weighted avg       1.00      1.00      1.00     67868\n",
      "\n",
      "\n",
      "\n",
      "\n",
      "Current KFold =  7\n",
      "2023-07-02 14:27:15.251398\n",
      "2023-07-02 14:27:25.226648\n",
      "time taken for fit_transform with PCA 9.97525\n",
      "\n",
      "total time = 9.97525\n",
      "Data Train\n",
      "0.9996545587602097\n",
      "              precision    recall  f1-score   support\n",
      "\n",
      "           0       1.00      1.00      1.00    490293\n",
      "           1       1.00      1.00      1.00    120520\n",
      "\n",
      "    accuracy                           1.00    610813\n",
      "   macro avg       1.00      1.00      1.00    610813\n",
      "weighted avg       1.00      1.00      1.00    610813\n",
      "\n",
      "Data Valid\n",
      "0.9972151824129192\n",
      "              precision    recall  f1-score   support\n",
      "\n",
      "           0       1.00      1.00      1.00     54591\n",
      "           1       0.99      0.99      0.99     13277\n",
      "\n",
      "    accuracy                           1.00     67868\n",
      "   macro avg       1.00      1.00      1.00     67868\n",
      "weighted avg       1.00      1.00      1.00     67868\n",
      "\n",
      "\n",
      "\n",
      "\n",
      "Current KFold =  8\n",
      "2023-07-02 14:28:08.422373\n",
      "2023-07-02 14:28:19.765860\n",
      "time taken for fit_transform with PCA 11.343487\n",
      "\n",
      "total time = 11.343487\n",
      "Data Train\n",
      "0.9997511513343691\n",
      "              precision    recall  f1-score   support\n",
      "\n",
      "           0       1.00      1.00      1.00    490459\n",
      "           1       1.00      1.00      1.00    120354\n",
      "\n",
      "    accuracy                           1.00    610813\n",
      "   macro avg       1.00      1.00      1.00    610813\n",
      "weighted avg       1.00      1.00      1.00    610813\n",
      "\n",
      "Data Valid\n",
      "0.9973477927742087\n",
      "              precision    recall  f1-score   support\n",
      "\n",
      "           0       1.00      1.00      1.00     54425\n",
      "           1       1.00      0.99      0.99     13443\n",
      "\n",
      "    accuracy                           1.00     67868\n",
      "   macro avg       1.00      1.00      1.00     67868\n",
      "weighted avg       1.00      1.00      1.00     67868\n",
      "\n",
      "\n",
      "\n",
      "\n",
      "Current KFold =  9\n",
      "2023-07-02 14:28:57.295027\n",
      "2023-07-02 14:29:08.796350\n",
      "time taken for fit_transform with PCA 11.501323\n",
      "\n",
      "total time = 11.501323\n",
      "Data Train\n",
      "0.9996905763302353\n",
      "              precision    recall  f1-score   support\n",
      "\n",
      "           0       1.00      1.00      1.00    490497\n",
      "           1       1.00      1.00      1.00    120316\n",
      "\n",
      "    accuracy                           1.00    610813\n",
      "   macro avg       1.00      1.00      1.00    610813\n",
      "weighted avg       1.00      1.00      1.00    610813\n",
      "\n",
      "Data Valid\n",
      "0.9976572169505511\n",
      "              precision    recall  f1-score   support\n",
      "\n",
      "           0       1.00      1.00      1.00     54387\n",
      "           1       1.00      0.99      0.99     13481\n",
      "\n",
      "    accuracy                           1.00     67868\n",
      "   macro avg       1.00      1.00      1.00     67868\n",
      "weighted avg       1.00      1.00      1.00     67868\n",
      "\n",
      "\n",
      "\n",
      "\n",
      "Current KFold =  10\n",
      "2023-07-02 14:29:45.072398\n",
      "2023-07-02 14:29:53.380230\n",
      "time taken for fit_transform with PCA 8.307832\n",
      "\n",
      "total time = 8.307832\n",
      "Data Train\n",
      "0.9997200452511652\n",
      "              precision    recall  f1-score   support\n",
      "\n",
      "           0       1.00      1.00      1.00    490180\n",
      "           1       1.00      1.00      1.00    120633\n",
      "\n",
      "    accuracy                           1.00    610813\n",
      "   macro avg       1.00      1.00      1.00    610813\n",
      "weighted avg       1.00      1.00      1.00    610813\n",
      "\n",
      "Data Valid\n",
      "0.9977014204043143\n",
      "              precision    recall  f1-score   support\n",
      "\n",
      "           0       1.00      1.00      1.00     54704\n",
      "           1       1.00      0.99      0.99     13164\n",
      "\n",
      "    accuracy                           1.00     67868\n",
      "   macro avg       1.00      1.00      1.00     67868\n",
      "weighted avg       1.00      1.00      1.00     67868\n",
      "\n",
      "\n"
     ]
    },
    {
     "name": "stdout",
     "output_type": "stream",
     "text": [
      "\n",
      "Average time for fit_transform PCA: 10.3701072 seconds\n",
      "Average accuracy of 10 folds : 0.9971842435123348\n"
     ]
    }
   ],
   "source": [
    "n_components = chosen_hyperparameter[1]\n",
    "roc_list = []\n",
    "time_list = []\n",
    "acc_list = []\n",
    "convergence_time_test(n_components, roc_list, time_list, acc_list)"
   ]
  },
  {
   "cell_type": "markdown",
   "metadata": {},
   "source": [
    "## Result of Validation Model"
   ]
  },
  {
   "cell_type": "code",
   "execution_count": 32,
   "metadata": {},
   "outputs": [
    {
     "name": "stdout",
     "output_type": "stream",
     "text": [
      "fold 1 - accuracy: 0.9976130486672855 - time PCA: 12.64935 \n",
      "fold 2 - accuracy: 0.9942240820416102 - time PCA: 8.326743 \n",
      "fold 3 - accuracy: 0.9970825720516296 - time PCA: 10.094232 \n",
      "fold 4 - accuracy: 0.9975835445276124 - time PCA: 10.384146 \n",
      "fold 5 - accuracy: 0.9978634997347793 - time PCA: 10.515702 \n",
      "fold 6 - accuracy: 0.997554075558437 - time PCA: 10.603007 \n",
      "fold 7 - accuracy: 0.9972151824129192 - time PCA: 9.97525 \n",
      "fold 8 - accuracy: 0.9973477927742087 - time PCA: 11.343487 \n",
      "fold 9 - accuracy: 0.9976572169505511 - time PCA: 11.501323 \n",
      "fold 10 - accuracy: 0.9977014204043143 - time PCA: 8.307832 \n"
     ]
    }
   ],
   "source": [
    "for i,acc in enumerate(acc_list):\n",
    "    print(f'fold {i+1} - accuracy: {acc} - time PCA: {time_list[i]} ')"
   ]
  },
  {
   "cell_type": "code",
   "execution_count": 33,
   "metadata": {},
   "outputs": [
    {
     "data": {
      "image/png": "[encoded data removed]",
      "text/plain": [
       "<Figure size 1080x792 with 1 Axes>"
      ]
     },
     "metadata": {
      "needs_background": "light"
     },
     "output_type": "display_data"
    }
   ],
   "source": [
    "plt.figure(figsize = (15, 11))\n",
    "colors = ['blue', 'green', 'red', 'cyan', 'magenta', 'yellow', 'black', 'brown', 'orange', 'purple']\n",
    "\n",
    "for i in range(10):        \n",
    "    plt.plot(roc_list[i][0], roc_list[i][1], color=colors[i-1], label=f'ROC curve {i+1} fold (area = %0.2f)' % roc_list[i][2])\n",
    "plt.plot([0, 1], [0, 1], color='navy', linestyle='--')\n",
    "plt.xlim([0.0, 1.0])\n",
    "plt.ylim([0.0, 1.05])\n",
    "plt.xlabel('False Positive Rate')\n",
    "plt.ylabel('True Positive Rate')\n",
    "plt.legend(loc=\"lower right\")\n",
    "plt.show()"
   ]
  },
  {
   "cell_type": "code",
   "execution_count": 34,
   "metadata": {},
   "outputs": [
    {
     "name": "stdout",
     "output_type": "stream",
     "text": [
      "ROC curve 1 fold (area = 0.9957022747698658) \n",
      "ROC curve 2 fold (area = 0.9874066743847008) \n",
      "ROC curve 3 fold (area = 0.9948716398402545) \n",
      "ROC curve 4 fold (area = 0.9957939465620737) \n",
      "ROC curve 5 fold (area = 0.9960719453077371) \n",
      "ROC curve 6 fold (area = 0.9958526743308566) \n",
      "ROC curve 7 fold (area = 0.9951624355276159) \n",
      "ROC curve 8 fold (area = 0.9951255289050954) \n",
      "ROC curve 9 fold (area = 0.995692875571505) \n",
      "ROC curve 10 fold (area = 0.995891812750507) \n"
     ]
    }
   ],
   "source": [
    "for i,roc in enumerate(roc_list):\n",
    "    print(f'ROC curve {i+1} fold (area = {roc[2]}) ')"
   ]
  }
 ],
 "metadata": {
  "accelerator": "GPU",
  "colab": {
   "collapsed_sections": [
    "ywDHbtgmIZv_",
    "YNGeY2xUIe0k",
    "v4HSqnvL--th",
    "xVGLOLFEqlx8",
    "8vw3Ktt6qsYL",
    "muBX8nzOqs3R"
   ],
   "gpuType": "T4",
   "provenance": []
  },
  "gpuClass": "standard",
  "kernelspec": {
   "display_name": "Python 3 (ipykernel)",
   "language": "python",
   "name": "python3"
  },
  "language_info": {
   "codemirror_mode": {
    "name": "ipython",
    "version": 3
   },
   "file_extension": ".py",
   "mimetype": "text/x-python",
   "name": "python",
   "nbconvert_exporter": "python",
   "pygments_lexer": "ipython3",
   "version": "3.9.12"
  }
 },
 "nbformat": 4,
 "nbformat_minor": 1
}
